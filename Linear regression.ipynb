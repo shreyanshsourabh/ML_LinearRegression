{
 "cells": [
  {
   "cell_type": "code",
   "execution_count": 16,
   "id": "a44f339f",
   "metadata": {},
   "outputs": [],
   "source": [
    "import numpy as np\n",
    "import pandas as pd\n",
    "import matplotlib.pyplot as plt\n",
    "from sklearn import metrics\n",
    "from sklearn.model_selection import train_test_split"
   ]
  },
  {
   "cell_type": "code",
   "execution_count": 17,
   "id": "31e9a6d5",
   "metadata": {},
   "outputs": [],
   "source": [
    "class LinearRegression():\n",
    "    \n",
    "    # Defining constructor, l=learningRate, i=Iteration/epoch\n",
    "    def __init__ (self,l,i):\n",
    "        self.l = l\n",
    "        self.i = i\n",
    "        \n",
    "    #Defining fit function\n",
    "    def fit (self,X,Y):\n",
    "        \n",
    "        #Rows and column\n",
    "        self.m, self.n = X.shape\n",
    "        \n",
    "        self.X = X\n",
    "        self.Y = Y\n",
    "        \n",
    "        x_ = np.mean(self.X)\n",
    "        y_ = np.mean(self.Y)\n",
    "        \n",
    "        self.w =  (np.sum((self.X - x_)*(self.Y - y_)) / np.sum((self.X - x_)*(self.X - x_)))\n",
    "        self.b = (y_ - self.w * x_)\n",
    "        \n",
    "        print(\"w =\",self.w,'b =',self.b)\n",
    "        \n",
    "        #updating weight\n",
    "        for x in range(self.i):\n",
    "            self.update_weight()\n",
    "        \n",
    "        \n",
    "    #Updating Weight function\n",
    "    def update_weight (self):\n",
    "        \n",
    "        y =   self.predict(self.X)\n",
    "        \n",
    "        dw = (-2/self.m) * (self.X.T.dot(self.Y - y))\n",
    "        db = (-2/self.m) * np.sum(self.Y - y)\n",
    "        \n",
    "        print(\"dw =\",dw.iloc[0,0],'db = ',db.iloc[0])\n",
    "        \n",
    "        #Gradient Descent\n",
    "        self.w = self.w - self.l * dw.iloc[0,0]\n",
    "        self.b = self.b - self.l * db.iloc[0]\n",
    "        \n",
    "    \n",
    "    #Predicting function\n",
    "    def predict(self,X):\n",
    "        return X*(self.w) + self.b"
   ]
  },
  {
   "cell_type": "code",
   "execution_count": 18,
   "id": "a7ecd894",
   "metadata": {},
   "outputs": [
    {
     "name": "stdout",
     "output_type": "stream",
     "text": [
      "[[0.63297776]\n",
      " [0.73189232]\n",
      " [0.92659997]\n",
      " [0.93094898]\n",
      " [0.17173629]\n",
      " [0.50063654]\n",
      " [0.53455552]\n",
      " [0.55662458]\n",
      " [0.74163691]\n",
      " [0.88921266]]\n",
      "[[0.84499096]\n",
      " [0.63927195]\n",
      " [0.58890175]\n",
      " [0.14849592]\n",
      " [0.63863106]\n",
      " [0.98454632]\n",
      " [0.40210284]\n",
      " [0.73858732]\n",
      " [0.07091542]\n",
      " [0.94664291]]\n"
     ]
    }
   ],
   "source": [
    "X = np.random.random((10,1))\n",
    "Y = np.random.random((10,1))\n",
    "print(X)\n",
    "print(Y)"
   ]
  },
  {
   "cell_type": "code",
   "execution_count": 19,
   "id": "13269f45",
   "metadata": {},
   "outputs": [
    {
     "data": {
      "text/plain": [
       "(10, 1)"
      ]
     },
     "execution_count": 19,
     "metadata": {},
     "output_type": "execute_result"
    }
   ],
   "source": [
    "X.shape"
   ]
  },
  {
   "cell_type": "code",
   "execution_count": 20,
   "id": "e383a735",
   "metadata": {},
   "outputs": [
    {
     "data": {
      "text/plain": [
       "(10, 1)"
      ]
     },
     "execution_count": 20,
     "metadata": {},
     "output_type": "execute_result"
    }
   ],
   "source": [
    "Y.shape"
   ]
  },
  {
   "cell_type": "code",
   "execution_count": 21,
   "id": "9d0ca330",
   "metadata": {},
   "outputs": [],
   "source": [
    "X = pd.DataFrame(X)\n",
    "Y = pd.DataFrame(Y)"
   ]
  },
  {
   "cell_type": "code",
   "execution_count": 22,
   "id": "64fb0b60",
   "metadata": {},
   "outputs": [
    {
     "data": {
      "image/png": "[encoded data removed]",
      "text/plain": [
       "<Figure size 432x288 with 1 Axes>"
      ]
     },
     "metadata": {
      "needs_background": "light"
     },
     "output_type": "display_data"
    }
   ],
   "source": [
    "plt.scatter(X,Y)\n",
    "plt.show()"
   ]
  },
  {
   "cell_type": "code",
   "execution_count": null,
   "id": "8be4ae8a",
   "metadata": {},
   "outputs": [],
   "source": []
  },
  {
   "cell_type": "code",
   "execution_count": 23,
   "id": "2a63cd0c",
   "metadata": {},
   "outputs": [],
   "source": [
    "X_train, X_test, Y_train,  Y_test = train_test_split(X,Y, test_size = 0.3, random_state = 5)"
   ]
  },
  {
   "cell_type": "code",
   "execution_count": 30,
   "id": "eda1665e",
   "metadata": {},
   "outputs": [],
   "source": [
    "model = LinearRegression(0.005,50)"
   ]
  },
  {
   "cell_type": "code",
   "execution_count": 31,
   "id": "c0cdc4a1",
   "metadata": {},
   "outputs": [
    {
     "name": "stdout",
     "output_type": "stream",
     "text": [
      "w = 0   -0.625887\n",
      "dtype: float64 b = 0    0.882077\n",
      "dtype: float64\n",
      "dw = 1.586032892321652e-17 db =  6.344131569286608e-17\n",
      "dw = 1.586032892321652e-17 db =  6.344131569286608e-17\n",
      "dw = 1.586032892321652e-17 db =  6.344131569286608e-17\n",
      "dw = 1.586032892321652e-17 db =  6.344131569286608e-17\n",
      "dw = 1.586032892321652e-17 db =  6.344131569286608e-17\n",
      "dw = 1.586032892321652e-17 db =  6.344131569286608e-17\n",
      "dw = 1.586032892321652e-17 db =  6.344131569286608e-17\n",
      "dw = 1.586032892321652e-17 db =  6.344131569286608e-17\n",
      "dw = 1.586032892321652e-17 db =  6.344131569286608e-17\n",
      "dw = 1.586032892321652e-17 db =  6.344131569286608e-17\n",
      "dw = 1.586032892321652e-17 db =  6.344131569286608e-17\n",
      "dw = 1.586032892321652e-17 db =  6.344131569286608e-17\n",
      "dw = 1.586032892321652e-17 db =  6.344131569286608e-17\n",
      "dw = 1.586032892321652e-17 db =  6.344131569286608e-17\n",
      "dw = 1.586032892321652e-17 db =  6.344131569286608e-17\n",
      "dw = 1.586032892321652e-17 db =  6.344131569286608e-17\n",
      "dw = 1.586032892321652e-17 db =  6.344131569286608e-17\n",
      "dw = 1.586032892321652e-17 db =  6.344131569286608e-17\n",
      "dw = 1.586032892321652e-17 db =  6.344131569286608e-17\n",
      "dw = 1.586032892321652e-17 db =  6.344131569286608e-17\n",
      "dw = 1.586032892321652e-17 db =  6.344131569286608e-17\n",
      "dw = 1.586032892321652e-17 db =  6.344131569286608e-17\n",
      "dw = 1.586032892321652e-17 db =  6.344131569286608e-17\n",
      "dw = 1.586032892321652e-17 db =  6.344131569286608e-17\n",
      "dw = 1.586032892321652e-17 db =  6.344131569286608e-17\n",
      "dw = 1.586032892321652e-17 db =  6.344131569286608e-17\n",
      "dw = 1.586032892321652e-17 db =  6.344131569286608e-17\n",
      "dw = 1.586032892321652e-17 db =  6.344131569286608e-17\n",
      "dw = 1.586032892321652e-17 db =  6.344131569286608e-17\n",
      "dw = 1.586032892321652e-17 db =  6.344131569286608e-17\n",
      "dw = 1.586032892321652e-17 db =  6.344131569286608e-17\n",
      "dw = 1.586032892321652e-17 db =  6.344131569286608e-17\n",
      "dw = 1.586032892321652e-17 db =  6.344131569286608e-17\n",
      "dw = 1.586032892321652e-17 db =  6.344131569286608e-17\n",
      "dw = 1.586032892321652e-17 db =  6.344131569286608e-17\n",
      "dw = 1.586032892321652e-17 db =  6.344131569286608e-17\n",
      "dw = 1.586032892321652e-17 db =  6.344131569286608e-17\n",
      "dw = 1.586032892321652e-17 db =  6.344131569286608e-17\n",
      "dw = 1.586032892321652e-17 db =  6.344131569286608e-17\n",
      "dw = 1.586032892321652e-17 db =  6.344131569286608e-17\n",
      "dw = 1.586032892321652e-17 db =  6.344131569286608e-17\n",
      "dw = 1.586032892321652e-17 db =  6.344131569286608e-17\n",
      "dw = 1.586032892321652e-17 db =  6.344131569286608e-17\n",
      "dw = 1.586032892321652e-17 db =  6.344131569286608e-17\n",
      "dw = 1.586032892321652e-17 db =  6.344131569286608e-17\n",
      "dw = 1.586032892321652e-17 db =  6.344131569286608e-17\n",
      "dw = 1.586032892321652e-17 db =  6.344131569286608e-17\n",
      "dw = 1.586032892321652e-17 db =  6.344131569286608e-17\n",
      "dw = 1.586032892321652e-17 db =  6.344131569286608e-17\n",
      "dw = 1.586032892321652e-17 db =  6.344131569286608e-17\n"
     ]
    }
   ],
   "source": [
    "model.fit(X_train,Y_train)"
   ]
  },
  {
   "cell_type": "code",
   "execution_count": 32,
   "id": "a3cf8fef",
   "metadata": {},
   "outputs": [
    {
     "name": "stdout",
     "output_type": "stream",
     "text": [
      "          0\n",
      "9  0.325531\n",
      "5  0.568736\n",
      "2  0.302131\n"
     ]
    }
   ],
   "source": [
    "Y_prediction = model.predict(X_test)\n",
    "print(Y_prediction)"
   ]
  },
  {
   "cell_type": "code",
   "execution_count": 33,
   "id": "bfbc4359",
   "metadata": {},
   "outputs": [
    {
     "data": {
      "image/png": "[encoded data removed]",
      "text/plain": [
       "<Figure size 432x288 with 1 Axes>"
      ]
     },
     "metadata": {
      "needs_background": "light"
     },
     "output_type": "display_data"
    }
   ],
   "source": [
    "plt.scatter(X_test,Y_test, color = 'b')\n",
    "plt.scatter(X_test,Y_prediction, color = 'g')\n",
    "plt.show()"
   ]
  },
  {
   "cell_type": "code",
   "execution_count": null,
   "id": "f4733c8e",
   "metadata": {},
   "outputs": [],
   "source": []
  },
  {
   "cell_type": "code",
   "execution_count": 34,
   "id": "1b8fdc93",
   "metadata": {},
   "outputs": [
    {
     "name": "stdout",
     "output_type": "stream",
     "text": [
      "-5.724071705912857\n"
     ]
    }
   ],
   "source": [
    "r2_score = metrics.r2_score(Y_test,Y_prediction)\n",
    "print(r2_score)"
   ]
  },
  {
   "cell_type": "code",
   "execution_count": 35,
   "id": "67083530",
   "metadata": {},
   "outputs": [
    {
     "name": "stdout",
     "output_type": "stream",
     "text": [
      "0.24767032011084145\n"
     ]
    }
   ],
   "source": [
    "print(metrics.r2_score(Y_train,model.predict(X_train)))"
   ]
  },
  {
   "cell_type": "code",
   "execution_count": null,
   "id": "bcce66d6",
   "metadata": {},
   "outputs": [],
   "source": []
  },
  {
   "cell_type": "code",
   "execution_count": null,
   "id": "c65ed2a5",
   "metadata": {},
   "outputs": [],
   "source": []
  }
 ],
 "metadata": {
  "kernelspec": {
   "display_name": "Python 3 (ipykernel)",
   "language": "python",
   "name": "python3"
  },
  "language_info": {
   "codemirror_mode": {
    "name": "ipython",
    "version": 3
   },
   "file_extension": ".py",
   "mimetype": "text/x-python",
   "name": "python",
   "nbconvert_exporter": "python",
   "pygments_lexer": "ipython3",
   "version": "3.9.7"
  }
 },
 "nbformat": 4,
 "nbformat_minor": 5
}
